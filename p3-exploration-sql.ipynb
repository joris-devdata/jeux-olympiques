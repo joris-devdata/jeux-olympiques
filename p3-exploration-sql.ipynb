{
 "cells": [
  {
   "cell_type": "markdown",
   "metadata": {},
   "source": [
    "# P3. Exploration SQL"
   ]
  },
  {
   "cell_type": "markdown",
   "metadata": {},
   "source": [
    "Le répertoire `/db` contient une base de données SQLite3 `olympics.sqbpro` reprenant les résultats des épreuves des jeux d'été pour une période donnée (cf P1 & P2).\n",
    "\n",
    "On s'intéresse dans le cadre de cette partie P3 à l'exploration via SQL des résultats des JO d'été (table : `summer`)."
   ]
  },
  {
   "cell_type": "markdown",
   "metadata": {},
   "source": [
    "---"
   ]
  },
  {
   "cell_type": "markdown",
   "metadata": {},
   "source": [
    "### Question 1: Qu'est ce que SQL ?"
   ]
  },
  {
   "cell_type": "markdown",
   "metadata": {},
   "source": [
    "### Définition :\n",
    "\n",
    "SQL veut dire Langage de requête structurée. (en anglais : Structured Query Language).\n",
    "\n",
    "### En clair :\n",
    "\n",
    "Comme dans la vie, pour que des personnes puissent se comprendre, elles doivent parler le même langage et bien en informatique, c’est pareil.\n",
    "\n",
    "Pour que les différents logiciels et le moteur de base de données (donc les SGBD = **Système de Gestion de Bases de Données**) puissent se comprendre, ils utilisent un langage appelé SQL. SQL est prvivilégié pour les SGBD de type **R** à savoir relationnelle (qui suivent le modèle relationnel(*) - \n",
    "\n",
    "Ce langage est complet. Il va être utilisé pour :\n",
    "\n",
    "    1) le LDD (langage de définition de données) destiné à créer ou supprimer des objets dans la base de données (tables, contraintes, etc.)\n",
    "\n",
    "    2) le LCD (langage de contrôle de données) qui gère les utilisateurs d'une base de données ainsi que leurs droits sur les objets (droit de consultation, modification etc.)\n",
    "\n",
    "    3) le LMD (langage de manipulation de données) destiné à manipuler les données contenues dans les tables, c'est-à-dire à manipuler les lignes de celles-ci. Les 4 opérations possibles sont :\n",
    "\n",
    "        - La création de lignes\n",
    "        - La lecture de lignes\n",
    "        - L'actualisation de lignes\n",
    "        - La suppression de lignes\n",
    "\n",
    "Ce langage est structuré (comme son nom l’indique), c’est à dire que la syntaxe est toujours la même et respecte des normes très précises.\n",
    "\n",
    "Il a évolué dans le temps depuis sa création en 1970 (SEQUEL par Donald Chamberlin et Raymond Boyce) jusqu'à l'actuelle version SQL3.\n",
    "\n",
    "sources : [culture informatique](https://www.culture-informatique.net/cest-quoi-sql/) - [OpenClassRooms](https://openclassrooms.com/fr/courses/4449026-initiez-vous-a-lalgebre-relationnelle-avec-le-langage-sql/4538696-comprenez-les-bases-de-donnees-sql) - Wikipedia\n",
    "\n",
    "(*) Le modèle relationnel est basé sur deux instruments puissants : l’algèbre relationnelle (c'est-à-dire le concept mathématique de relation en théorie des ensembles) et la notion de produit cartésien. Ce modèle définit une façon de représenter les données, les opérations qui peuvent être effectuées ainsi que les mécanismes pour préserver la consistance des données. E.F Codd a décrit les principes et la conception de modèle relationnel dans son livre « A relational model of data for large shared data banks » en 1970."
   ]
  },
  {
   "cell_type": "markdown",
   "metadata": {},
   "source": [
    "### Question 2: Qu'est ce que SQLite 3 ? Avantages et/ou Inconvénients ?"
   ]
  },
  {
   "cell_type": "markdown",
   "metadata": {},
   "source": [
    "SQLite3 est un système de base de données qui a la particularité de fonctionner sans serveur, on dit aussi \"standalone\" ou \"base de données embarquée\". On peut l'utiliser avec beaucoup de langages : PHP, Python, C# (.NET), Java, C/C++, Delphi, Ruby...\n",
    "\n",
    "L'intérêt c'est que c'est très léger et rapide à mettre en place, on peut s'en servir aussi bien pour stocker des données dans une vraie base de données sur une application pour smartphone (iPhone ou Android), pour une application Windows, ou sur un serveur web.\n",
    "\n",
    "Une base de données SQLite est bien plus performante et facile à utiliser que de stocker les données dans des fichiers XML ou binaires, d'ailleurs ces performances sont même comparables aux autres SGBD fonctionnant avec un serveur comme MySQL, Microsoft SQL Server ou PostgreSQL.\n",
    "\n",
    "Comme tous les programmes, SQLite évolue au fil du temps. SQLite 2 est une ancienne version de SQLite, elle est devenue obsolète lors de la sortie de SQLite 3 en 2004. La dernière release de SQLite 2 date de décembre 2005 (2.8.17).\n",
    "\n",
    "La version 3 apporte de meilleures performances ainsi que son lot utile comme :\n",
    "\n",
    "Avantages:\n",
    "- Il présente la particularité d'être directement intégré aux programmes et dans l'application utilisant sa bibliothèque logicielle alors que ses concurrents comme MySQL reproduisent de leur côté le schéma classique client-serveur.\n",
    "- La base de données est intégralement stockée dans un fichier indépendant du logiciel.\n",
    "- Auto increment (très utile pour les clé primaires à base d'entiers générés automatiquement)\n",
    "- Stockage plus efficace (SQLite2 stocke tous les types sous forme de chaine de caractère : entiers, chaines, BLOB... ce qui occupe de l'espace disque inutilement)\n",
    "- Support des clés étrangères\n",
    "\n",
    "Inconvénients:\n",
    "- Ecritures atomiques (avec SQLite, un seul processus peut écrire dans la base)\n",
    "- Pas de réplication(La réplication consiste à créer des copies d'un serveur de base de données MySQL de façon à pouvoir répartir la charge (load-balancing) et ainsi pouvoir répondre à de fortes demandes, sur les sites à grande audience (comme facebook par exemple))."
   ]
  },
  {
   "cell_type": "markdown",
   "metadata": {},
   "source": [
    "### Question 3: Donner des exemples d'autres formats de fichier pouvant être utilisé pour fournir des données similaires "
   ]
  },
  {
   "cell_type": "markdown",
   "metadata": {},
   "source": [
    "- XML (XML est simplement une méthode pour représenter les données. Celles-ci sont écrites entre des balises ou sous forme d'attributs, et l'ensemble est écrit sous forme d'un arbre)\n",
    "- JSON (JavaScript Object Notation est un format de données textuelles dérivé de la notation des objets du langage JavaScript. Il permet de représenter de l’information structurée comme le permet XML)"
   ]
  },
  {
   "cell_type": "markdown",
   "metadata": {},
   "source": [
    "### Question 4: Quel est le type (texte ou binaire) du fichier base de données SQLite3?"
   ]
  },
  {
   "cell_type": "markdown",
   "metadata": {},
   "source": [
    "Le fichier `olympics.sqbpro` est un fichier ... binaire, on ne peut pas l'ouvrir comme un fichier texte dans un éditeur de texte."
   ]
  },
  {
   "cell_type": "markdown",
   "metadata": {},
   "source": [
    "### Question 5: Donner les caractéristiques de la table `summer` ? "
   ]
  },
  {
   "cell_type": "markdown",
   "metadata": {},
   "source": [
    "La table Summer est composée de de 9 colonnes : 8 sont de format TEXT et 1 (Year) au format INTEGER (nombre entier)\n",
    "\n",
    "![P3-Q5](Images/P3-Q5.png)\n"
   ]
  },
  {
   "cell_type": "markdown",
   "metadata": {},
   "source": [
    "---\n",
    "### Question 6: Combien d'enregistrements possède la table `summer` ?"
   ]
  },
  {
   "cell_type": "markdown",
   "metadata": {},
   "source": [
    "### Commande à exécuter :\n",
    "\n",
    "```SQL\n",
    "SELECT count(*)\n",
    "FROM summer\n",
    "```\n",
    "Résultat: 31165\n",
    "\n",
    "![P3-Q6](Images/P3-Q6.png)"
   ]
  },
  {
   "cell_type": "markdown",
   "metadata": {},
   "source": [
    "### Question 7: Quelle période des JO couvre ce fichier de résultats ?"
   ]
  },
  {
   "cell_type": "markdown",
   "metadata": {},
   "source": [
    "### Commande à exécuter :\n",
    "\n",
    "```SQL\n",
    "SELECT DISTINCT Year,City\n",
    "FROM summer\n",
    "```\n",
    "Résultat: de 1896 à 2012\n",
    "\n",
    "![P3-Q7](Images/P3-Q7.png)"
   ]
  },
  {
   "cell_type": "markdown",
   "metadata": {},
   "source": [
    "### Question 8: Indiquer les années et villes des olympiades ? "
   ]
  },
  {
   "cell_type": "markdown",
   "metadata": {},
   "source": [
    "### Commande à exécuter :\n",
    "\n",
    "```SQL\n",
    "SELECT DISTINCT Year,City\n",
    "FROM summer\n",
    "```\n",
    "Résultat:\n",
    "```SQL\n",
    "Year\tCity\n",
    "1896\tAthens\n",
    "1900\tParis\n",
    "1904\tSt Louis\n",
    "1908\tLondon\n",
    "1912\tStockholm\n",
    "1920\tAntwerp\n",
    "1924\tParis\n",
    "1928\tAmsterdam\n",
    "1932\tLos Angeles\n",
    "1936\tBerlin\n",
    "1948\tLondon\n",
    "1952\tHelsinki\n",
    "1956\tMelbourne / Stockholm\n",
    "1960\tRome\n",
    "1964\tTokyo\n",
    "1968\tMexico\n",
    "1972\tMunich\n",
    "1976\tMontreal\n",
    "1980\tMoscow\n",
    "1984\tLos Angeles\n",
    "1988\tSeoul\n",
    "1992\tBarcelona\n",
    "1996\tAtlanta\n",
    "2000\tSydney\n",
    "2004\tAthens\n",
    "2008\tBeijing\n",
    "2012\tLondon\n",
    "```\n",
    "![P3-Q8](Images/P3-Q8.png)"
   ]
  },
  {
   "cell_type": "markdown",
   "metadata": {},
   "source": [
    "### Question 1: "
   ]
  },
  {
   "cell_type": "markdown",
   "metadata": {},
   "source": [
    "## Question 1: Combien la France a remporté de médailles d’or aux JO de 1984 ? - (Christophe)\n",
    "### Commande à exécuter :\n",
    "\n",
    "```SQL\n",
    "SELECT count(Medal)\n",
    "FROM summer\n",
    "WHERE Country = \"FRA\" AND Year = 1984 AND Medal = \"Gold\"\n",
    "```\n",
    "Réponse : 21\n",
    "\n",
    "![P3-QG1](Images/P3-QG1.png)"
   ]
  },
  {
   "cell_type": "markdown",
   "metadata": {},
   "source": [
    "--- "
   ]
  },
  {
   "cell_type": "markdown",
   "metadata": {},
   "source": [
    "## Question 2: Quel pays a le plus d’athlètes (toutes années confondues) ? (Matthias)\n",
    "### Commande à exécuter :\n",
    "\n",
    "```SQL\n",
    "SELECT Country, count(DISTINCT Athlete)\n",
    "FROM summer\n",
    "GROUP BY Country\n",
    "ORDER BY count(DISTINCT Athlete) DESC\n",
    "LIMIT 1\n",
    "```\n",
    "Réponse : USA ; 3149\n",
    "\n",
    "![P3-QG2](Images/P3-QG2.png)"
   ]
  },
  {
   "cell_type": "markdown",
   "metadata": {},
   "source": [
    "___"
   ]
  },
  {
   "cell_type": "markdown",
   "metadata": {},
   "source": [
    "## Question 3: En 2012 combien de médailles le Japon a t-il gagné ? (Théo)\n",
    "### Commande à exécuter :\n",
    "\n",
    "```SQL\n",
    "SELECT count(Medal)\n",
    "FROM summer\n",
    "WHERE Year = 2012 AND Country = \"JPN\"\n",
    "```\n",
    "Réponse : 84\n",
    "    \n",
    "![P3-QG3](Images/P3-QG3.png)"
   ]
  },
  {
   "cell_type": "markdown",
   "metadata": {},
   "source": [
    "___"
   ]
  },
  {
   "cell_type": "markdown",
   "metadata": {},
   "source": [
    "## Question 4:  Dans quels différents sports les Grecs ont-ils gagné des médailles ? - (Corentin L)\n",
    "### Commande à exécuter :\n",
    "\n",
    "```SQL\n",
    "SELECT count(Medal)\n",
    "FROM summer\n",
    "WHERE Year = 2012 AND Country = \"JPN\"\n",
    "```\n",
    "Réponse : 84\n",
    "    \n",
    "![P3-QG3](Images/P3-QG3.png)"
   ]
  },
  {
   "cell_type": "markdown",
   "metadata": {},
   "source": [
    "___"
   ]
  },
  {
   "cell_type": "markdown",
   "metadata": {},
   "source": [
    "## Question 5:  Quel pays a remporté le plus de médailles d’or ? (Philippe)\n",
    "### Commande à exécuter :\n",
    "\n",
    "```SQL\n",
    "SELECT Country, COUNT(Medal)\n",
    "FROM summer\n",
    "WHERE Medal = \"Gold\"\n",
    "GROUP BY Country\n",
    "ORDER BY COUNT(Medal) DESC\n",
    "LIMIT 1\n",
    "```\n",
    "Réponse : USA ; 2235\n",
    "    \n",
    "![P3-QG5](Images/P3-QG5.png)"
   ]
  },
  {
   "cell_type": "markdown",
   "metadata": {},
   "source": [
    "___"
   ]
  },
  {
   "cell_type": "markdown",
   "metadata": {},
   "source": [
    "## Question 6: Combien de villes différentes ont accueilli les JO d’été entre 1896 - et 2012 ? (Yoann)\n",
    "### Commande à exécuter :\n",
    "\n",
    "```SQL\n",
    "SELECT DISTINCT City\n",
    "FROM summer\n",
    "```\n",
    "Réponse : 22\n",
    "    \n",
    "![P3-QG6](Images/P3-QG6.png)"
   ]
  },
  {
   "cell_type": "markdown",
   "metadata": {},
   "source": [
    "___"
   ]
  },
  {
   "cell_type": "markdown",
   "metadata": {},
   "source": [
    "## Question 7: Combien de femmes ont obtenu une médaille d’or ? (Lamia)\n",
    "### Commande à exécuter :\n",
    "\n",
    "```SQL\n",
    "SELECT COUNT(*)\n",
    "FROM summer\n",
    "WHERE Gender = \"Women\" AND Medal = \"Gold\"\n",
    "```\n",
    "Réponse : 2788\n",
    "    \n",
    "![P3-QG7](Images/P3-QG7.png)"
   ]
  },
  {
   "cell_type": "markdown",
   "metadata": {},
   "source": [
    "___"
   ]
  },
  {
   "cell_type": "markdown",
   "metadata": {},
   "source": [
    "## Question 8: Combien de sports différents sont représentés par année ? (joris)\n",
    "### Commande à exécuter :\n",
    "\n",
    "```SQL\n",
    "SELECT Year, COUNT(DISTINCT Sport)\n",
    "FROM summer\n",
    "GROUP BY Year\n",
    "```\n",
    "Résultat:\n",
    "```SQL\n",
    "Year\tCOUNT(DISTINCT Sport)\n",
    "1896\t9\n",
    "1900\t19\n",
    "1904\t16\n",
    "1908\t22\n",
    "1912\t14\n",
    "1920\t22\n",
    "1924\t17\n",
    "1928\t14\n",
    "1932\t14\n",
    "1936\t19\n",
    "1948\t17\n",
    "1952\t17\n",
    "1956\t17\n",
    "1960\t17\n",
    "1964\t19\n",
    "1968\t18\n",
    "1972\t21\n",
    "1976\t21\n",
    "1980\t21\n",
    "1984\t21\n",
    "1988\t23\n",
    "1992\t25\n",
    "1996\t26\n",
    "2000\t28\n",
    "2004\t28\n",
    "2008\t28\n",
    "2012\t26\n",
    "```\n",
    "    \n",
    "![P3-QG8](Images/P3-QG8.png)"
   ]
  },
  {
   "cell_type": "markdown",
   "metadata": {},
   "source": [
    "___"
   ]
  },
  {
   "cell_type": "markdown",
   "metadata": {},
   "source": [
    "## Question 9: Combien de fois Londres a accueilli les J.O ? (Marvin)\n",
    "### Commande à exécuter :\n",
    "\n",
    "```SQL\n",
    "SELECT DISTINCT Year, City\n",
    "FROM summer\n",
    "WHERE City = \"London\"\n",
    "```\n",
    "Résultat: 3 fois\n",
    "```SQL\n",
    "Year\tCity\n",
    "1908\tLondon\n",
    "1948\tLondon\n",
    "2012\tLondon\n",
    "```\n",
    "    \n",
    "![P3-QG9](Images/P3-QG9.png)"
   ]
  },
  {
   "cell_type": "markdown",
   "metadata": {},
   "source": [
    "___"
   ]
  },
  {
   "cell_type": "markdown",
   "metadata": {},
   "source": [
    "## Question 10: Combien de joueuses comptait la sélection brésilienne de volley-ball - médaillée d’or aux J.O de 2012 ? (Corentin P)\n",
    "### Commande à exécuter :\n",
    "\n",
    "```SQL\n",
    "SELECT COUNT(DISTINCT Athlete)\n",
    "FROM summer\n",
    "WHERE Year = 2012 AND Sport = \"Volleyball\" AND Country = \"BRA\" AND Medal = \"Gold\" AND Gender = \"Women\"\n",
    "```\n",
    "Résultat: 12\n",
    "    \n",
    "![P3-QG10](Images/P3-QG10.png)"
   ]
  },
  {
   "cell_type": "markdown",
   "metadata": {},
   "source": [
    "___"
   ]
  },
  {
   "cell_type": "markdown",
   "metadata": {},
   "source": [
    "## Question 11: Combien de femmes françaises ont participé en 2012 , quel sont leurs - médailles ? (izak)\n",
    "### Commande à exécuter :\n",
    "\n",
    "```SQL\n",
    "SELECT count(DISTINCT Athlete) AS Athletes, count(Medal) AS Medal\n",
    "FROM summer\n",
    "WHERE Gender='Women' AND Country='FRA' AND Year=2012\n",
    "```\n",
    "Résultat: 29 Athlètes et 31 médailles\n",
    "```SQL\n",
    "Athletes\tMedals\n",
    "29\t31\n",
    "```\n",
    "    \n",
    "![P3-QG11](Images/P3-QG11.png)"
   ]
  },
  {
   "cell_type": "code",
   "execution_count": null,
   "metadata": {},
   "outputs": [],
   "source": []
  },
  {
   "cell_type": "code",
   "execution_count": null,
   "metadata": {
    "jupyter": {
     "source_hidden": true
    }
   },
   "outputs": [],
   "source": []
  },
  {
   "cell_type": "code",
   "execution_count": null,
   "metadata": {},
   "outputs": [],
   "source": []
  },
  {
   "cell_type": "code",
   "execution_count": null,
   "metadata": {},
   "outputs": [],
   "source": []
  },
  {
   "cell_type": "code",
   "execution_count": null,
   "metadata": {},
   "outputs": [],
   "source": []
  },
  {
   "cell_type": "markdown",
   "metadata": {},
   "source": [
    "Fin"
   ]
  }
 ],
 "metadata": {
  "kernelspec": {
   "display_name": "Python 3",
   "language": "python",
   "name": "python3"
  },
  "language_info": {
   "codemirror_mode": {
    "name": "ipython",
    "version": 3
   },
   "file_extension": ".py",
   "mimetype": "text/x-python",
   "name": "python",
   "nbconvert_exporter": "python",
   "pygments_lexer": "ipython3",
   "version": "3.8.6"
  }
 },
 "nbformat": 4,
 "nbformat_minor": 4
}
